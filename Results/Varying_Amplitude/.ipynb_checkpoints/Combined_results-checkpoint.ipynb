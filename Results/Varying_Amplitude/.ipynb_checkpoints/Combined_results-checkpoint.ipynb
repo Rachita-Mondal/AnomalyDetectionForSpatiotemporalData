{
 "cells": [
  {
   "cell_type": "code",
   "execution_count": 4,
   "id": "a3acc25b-45d9-46d4-a091-3b96afa3222d",
   "metadata": {},
   "outputs": [],
   "source": [
    "import numpy as np\n",
    "import pandas as pd\n"
   ]
  },
  {
   "cell_type": "markdown",
   "id": "7e2bc802-2598-43d5-a937-1cd36ea6eb82",
   "metadata": {},
   "source": [
    "## LRSTSS"
   ]
  },
  {
   "cell_type": "code",
   "execution_count": 5,
   "id": "2ee445a8-27e6-4b7b-8588-a2ed646f1075",
   "metadata": {},
   "outputs": [],
   "source": [
    "LRSTSS_varying_amp = pd.DataFrame()\n",
    "for a in [25, 5, 1, 15, 2]: ##add 15, data for rep 22 was missing\n",
    "    for r in range(50):\n",
    "        file_name = f'/Users/rachitamondal/Desktop/Anomaly_Detection/LRSTSS/Varying_Amplitude/results_amp_{a}/LRSTSS_amp_{a}_rep{r}.csv'\n",
    "        res = pd.read_csv(file_name)\n",
    "        LRSTSS_varying_amp = pd.concat([LRSTSS_varying_amp, res], ignore_index = True)"
   ]
  },
  {
   "cell_type": "code",
   "execution_count": 9,
   "id": "b48e438b-c245-464e-a7d8-d44f735215d5",
   "metadata": {},
   "outputs": [],
   "source": [
    "LRSTSS_varying_amp.to_csv(\"LRSTSS_varying_amp.csv\", index = False)"
   ]
  },
  {
   "cell_type": "markdown",
   "id": "f56be1fc-0949-41ca-b866-abcd82619f13",
   "metadata": {},
   "source": [
    "## LRSTS"
   ]
  },
  {
   "cell_type": "code",
   "execution_count": 12,
   "id": "03bed604-ec06-4be3-9dae-1c747f15cf1a",
   "metadata": {},
   "outputs": [],
   "source": [
    "LRSTS_varying_amp = pd.DataFrame()\n",
    "for a in [25, 5, 1, 15, 2]: ##add 15, data for rep 22 was missing\n",
    "    for r in range(50):\n",
    "        file_name = f'/Users/rachitamondal/Desktop/Anomaly_Detection/LRSTS/Varying_Amplitude/results_amp_{a}/LRSTS_amp_{a}_rep{r}.csv'\n",
    "        res = pd.read_csv(file_name)\n",
    "        LRSTS_varying_amp = pd.concat([LRSTS_varying_amp, res], ignore_index = True)"
   ]
  },
  {
   "cell_type": "code",
   "execution_count": 14,
   "id": "e30d4c23-0a24-4fdc-9022-5846311baa42",
   "metadata": {},
   "outputs": [],
   "source": [
    "LRSTS_varying_amp.to_csv(\"LRSTS_varying_amp.csv\", index = False)"
   ]
  },
  {
   "cell_type": "markdown",
   "id": "56143a9d-c1ca-47f0-bec9-5bf1bcbd8faa",
   "metadata": {},
   "source": [
    "## LRSS"
   ]
  },
  {
   "cell_type": "code",
   "execution_count": 4,
   "id": "5366a8fa-e2a4-4c07-a305-d6bc831dba99",
   "metadata": {},
   "outputs": [],
   "source": [
    "LRSSS_varying_amp = pd.DataFrame()\n",
    "for a in [25, 5, 1, 15, 2]: ##add 15, data for rep 22 was missing\n",
    "    for r in range(50):\n",
    "        file_name = f'/Users/rachitamondal/Desktop/Anomaly_Detection/LRSSS/Varying_Amplitude/results_amp_{a}/LRSSS_amp_{a}_rep{r}.csv'\n",
    "        res = pd.read_csv(file_name)\n",
    "        LRSSS_varying_amp = pd.concat([LRSSS_varying_amp, res], ignore_index = True)"
   ]
  },
  {
   "cell_type": "code",
   "execution_count": 6,
   "id": "71309fa3-3d82-462e-8807-4928b6ead27f",
   "metadata": {},
   "outputs": [],
   "source": [
    "LRSSS_varying_amp.to_csv(\"LRSSS_varying_amp.csv\", index = False)"
   ]
  },
  {
   "cell_type": "markdown",
   "id": "b986013f-3be2-47c9-b222-a75e740d8aed",
   "metadata": {},
   "source": [
    "## HoRPCA"
   ]
  },
  {
   "cell_type": "code",
   "execution_count": 8,
   "id": "fe36eca3-f355-4831-b193-67c965033dc7",
   "metadata": {},
   "outputs": [],
   "source": [
    "HORPCA_varying_amp = pd.DataFrame()\n",
    "for a in [25, 5, 1, 15, 2]: ##add 15, data for rep 22 was missing\n",
    "    for r in range(50):\n",
    "        file_name = f'/Users/rachitamondal/Desktop/Anomaly_Detection/HORPCA/Varying_Amplitude/results_amp_{a}/HORPCA_amp_{a}_rep{r}.csv'\n",
    "        res = pd.read_csv(file_name)\n",
    "        HORPCA_varying_amp = pd.concat([HORPCA_varying_amp, res], ignore_index = True)"
   ]
  },
  {
   "cell_type": "code",
   "execution_count": 10,
   "id": "775d916d-71e1-4950-99d4-7f6ff20476f5",
   "metadata": {},
   "outputs": [],
   "source": [
    "HORPCA_varying_amp.to_csv(\"HORPCA_varying_amp.csv\", index = False)"
   ]
  },
  {
   "cell_type": "code",
   "execution_count": null,
   "id": "1025a88d-6564-42f9-ae64-2f9392b1c9ef",
   "metadata": {},
   "outputs": [],
   "source": []
  }
 ],
 "metadata": {
  "kernelspec": {
   "display_name": "Python 3 (ipykernel)",
   "language": "python",
   "name": "python3"
  },
  "language_info": {
   "codemirror_mode": {
    "name": "ipython",
    "version": 3
   },
   "file_extension": ".py",
   "mimetype": "text/x-python",
   "name": "python",
   "nbconvert_exporter": "python",
   "pygments_lexer": "ipython3",
   "version": "3.11.5"
  }
 },
 "nbformat": 4,
 "nbformat_minor": 5
}
