{
 "cells": [
  {
   "cell_type": "code",
   "execution_count": null,
   "id": "5f9cf8a6-61b5-46b5-b30b-44976a025ef3",
   "metadata": {},
   "outputs": [],
   "source": []
  }
 ],
 "metadata": {
  "kernelspec": {
   "display_name": "",
   "name": ""
  },
  "language_info": {
   "name": ""
  }
 },
 "nbformat": 4,
 "nbformat_minor": 5
}
