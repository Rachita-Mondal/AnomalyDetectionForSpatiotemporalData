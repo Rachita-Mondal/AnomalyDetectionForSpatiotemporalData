{
 "cells": [
  {
   "cell_type": "code",
   "execution_count": 1,
   "id": "3cb557e3",
   "metadata": {},
   "outputs": [
    {
     "name": "stdout",
     "output_type": "stream",
     "text": [
      "Collecting tensorly\n",
      "  Obtaining dependency information for tensorly from https://files.pythonhosted.org/packages/71/6c/b07811af60b429d29ff1aab7a8d7b845f24e27462c7455c3df734007dd67/tensorly-0.8.1-py3-none-any.whl.metadata\n",
      "  Downloading tensorly-0.8.1-py3-none-any.whl.metadata (8.6 kB)\n",
      "Requirement already satisfied: numpy in /Users/rachitamondal/anaconda3/lib/python3.11/site-packages (from tensorly) (1.24.3)\n",
      "Requirement already satisfied: scipy in /Users/rachitamondal/anaconda3/lib/python3.11/site-packages (from tensorly) (1.11.1)\n",
      "Downloading tensorly-0.8.1-py3-none-any.whl (229 kB)\n",
      "\u001b[2K   \u001b[90m━━━━━━━━━━━━━━━━━━━━━━━━━━━━━━━━━━━━━━━━\u001b[0m \u001b[32m229.7/229.7 kB\u001b[0m \u001b[31m3.1 MB/s\u001b[0m eta \u001b[36m0:00:00\u001b[0m \u001b[36m0:00:01\u001b[0m\n",
      "\u001b[?25hInstalling collected packages: tensorly\n",
      "Successfully installed tensorly-0.8.1\n",
      "Note: you may need to restart the kernel to use updated packages.\n"
     ]
    }
   ],
   "source": [
    "pip install tensorly"
   ]
  },
  {
   "cell_type": "code",
   "execution_count": 2,
   "id": "2e69a3f0",
   "metadata": {},
   "outputs": [],
   "source": [
    "from tensorly.tenalg import khatri_rao"
   ]
  }
 ],
 "metadata": {
  "kernelspec": {
   "display_name": "Python 3 (ipykernel)",
   "language": "python",
   "name": "python3"
  },
  "language_info": {
   "codemirror_mode": {
    "name": "ipython",
    "version": 3
   },
   "file_extension": ".py",
   "mimetype": "text/x-python",
   "name": "python",
   "nbconvert_exporter": "python",
   "pygments_lexer": "ipython3",
   "version": "3.11.5"
  }
 },
 "nbformat": 4,
 "nbformat_minor": 5
}
