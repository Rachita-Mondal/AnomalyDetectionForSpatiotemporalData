{
 "cells": [
  {
   "cell_type": "code",
   "execution_count": 4,
   "id": "9a3abbfa-6107-4a5f-a39b-dd319340c130",
   "metadata": {},
   "outputs": [],
   "source": [
    "import numpy as np\n",
    "import pandas as pd"
   ]
  },
  {
   "cell_type": "markdown",
   "id": "cb254a56-29f2-4d85-adb6-82b32ce64316",
   "metadata": {},
   "source": [
    "## LRSTSS"
   ]
  },
  {
   "cell_type": "code",
   "execution_count": 7,
   "id": "8368a05d-3254-45d6-bbde-6f9a9e4b81ee",
   "metadata": {},
   "outputs": [],
   "source": [
    "LRSTSS_varying_snr = pd.DataFrame()\n",
    "for s in [5,10,15,20,25]: ##add 15, data for rep 22 was missing\n",
    "    for rep in range(50):\n",
    "        file_name = f'/Users/rachitamondal/Desktop/Anomaly_Detection/LRSTSS/Varying_SNR/results_snr_{s}/LRSTSS_snr_{s}_rep{rep}.csv'\n",
    "        res = pd.read_csv(file_name)\n",
    "        LRSTSS_varying_snr = pd.concat([LRSTSS_varying_snr, res], ignore_index = True)"
   ]
  },
  {
   "cell_type": "code",
   "execution_count": 9,
   "id": "6a30644e-8829-4a29-92ad-99815ef77b0f",
   "metadata": {},
   "outputs": [],
   "source": [
    "LRSTSS_varying_snr.to_csv(\"LRSTSS_varying_snr.csv\", index = False)"
   ]
  },
  {
   "cell_type": "markdown",
   "id": "0b1424ea-c4cd-453b-8710-7a396d19a4ac",
   "metadata": {},
   "source": [
    "## LRSTS"
   ]
  },
  {
   "cell_type": "code",
   "execution_count": 4,
   "id": "0fbdc238-9a7d-4793-9db7-f3ce7d5354a2",
   "metadata": {},
   "outputs": [],
   "source": [
    "LRSTS_varying_snr = pd.DataFrame()\n",
    "for s in [5,10,15,20,25]: ##add 15, data for rep 22 was missing\n",
    "    for rep in range(50):\n",
    "        file_name = f'/Users/rachitamondal/Desktop/Anomaly_Detection/LRSTS/Varying_SNR/results_snr_{s}/LRSTS_snr_{s}_rep{rep}.csv'\n",
    "        res = pd.read_csv(file_name)\n",
    "        LRSTS_varying_snr = pd.concat([LRSTS_varying_snr, res], ignore_index = True)"
   ]
  },
  {
   "cell_type": "code",
   "execution_count": 6,
   "id": "d9755424-a663-4791-b13d-c850a4d05b70",
   "metadata": {},
   "outputs": [],
   "source": [
    "LRSTS_varying_snr.to_csv(\"LRSTS_varying_snr.csv\", index = False)"
   ]
  },
  {
   "cell_type": "markdown",
   "id": "07d407c5-6c51-4a30-8127-198fd1e950d4",
   "metadata": {},
   "source": [
    "## LRSSS"
   ]
  },
  {
   "cell_type": "code",
   "execution_count": 6,
   "id": "50ffcf63-681a-4838-8267-6312a9650927",
   "metadata": {},
   "outputs": [],
   "source": [
    "LRSSS_varying_snr = pd.DataFrame()\n",
    "for s in [5,10,15,20,25]: ##add 15, data for rep 22 was missing\n",
    "    for rep in range(50):\n",
    "        file_name = f'/Users/rachitamondal/Desktop/Anomaly_Detection/LRSSS/Varying_SNR/results_snr_{s}/LRSSS_snr_{s}_rep{rep}.csv'\n",
    "        res = pd.read_csv(file_name)\n",
    "        LRSSS_varying_snr = pd.concat([LRSSS_varying_snr, res], ignore_index = True)"
   ]
  },
  {
   "cell_type": "code",
   "execution_count": 8,
   "id": "1f561956-5db6-4c8d-95d3-6b8c532bf4a8",
   "metadata": {},
   "outputs": [],
   "source": [
    "LRSSS_varying_snr.to_csv(\"LRSSS_varying_snr.csv\", index = False)"
   ]
  },
  {
   "cell_type": "markdown",
   "id": "f70b858c-44f0-4156-a910-3719e14c1d17",
   "metadata": {},
   "source": [
    "## HORPCA"
   ]
  },
  {
   "cell_type": "code",
   "execution_count": 6,
   "id": "9c540025-b5cf-4aa1-97c7-d2ce9e44cb36",
   "metadata": {},
   "outputs": [],
   "source": [
    "HORPCA_varying_snr = pd.DataFrame()\n",
    "for s in [5,10,15,20,25]: ##add 15, data for rep 22 was missing\n",
    "    for rep in range(50):\n",
    "        file_name = f'/Users/rachitamondal/Desktop/Anomaly_Detection/HORPCA/Varying_SNR/results_snr_{s}/HORPCA_snr_{s}_rep{rep}.csv'\n",
    "        res = pd.read_csv(file_name)\n",
    "        HORPCA_varying_snr = pd.concat([HORPCA_varying_snr, res], ignore_index = True)"
   ]
  },
  {
   "cell_type": "code",
   "execution_count": 8,
   "id": "a1b3a249-8b9f-4d25-9aa0-768dfd03111a",
   "metadata": {},
   "outputs": [],
   "source": [
    "HORPCA_varying_snr.to_csv(\"HORPCA_varying_snr.csv\", index = False)"
   ]
  },
  {
   "cell_type": "code",
   "execution_count": null,
   "id": "0008366e-ff7a-47a3-9a7b-c45bb902c706",
   "metadata": {},
   "outputs": [],
   "source": []
  },
  {
   "cell_type": "code",
   "execution_count": null,
   "id": "89a7b9d2-c949-408f-996a-895f95b341e1",
   "metadata": {},
   "outputs": [],
   "source": []
  }
 ],
 "metadata": {
  "kernelspec": {
   "display_name": "Python 3 (ipykernel)",
   "language": "python",
   "name": "python3"
  },
  "language_info": {
   "codemirror_mode": {
    "name": "ipython",
    "version": 3
   },
   "file_extension": ".py",
   "mimetype": "text/x-python",
   "name": "python",
   "nbconvert_exporter": "python",
   "pygments_lexer": "ipython3",
   "version": "3.11.5"
  }
 },
 "nbformat": 4,
 "nbformat_minor": 5
}
