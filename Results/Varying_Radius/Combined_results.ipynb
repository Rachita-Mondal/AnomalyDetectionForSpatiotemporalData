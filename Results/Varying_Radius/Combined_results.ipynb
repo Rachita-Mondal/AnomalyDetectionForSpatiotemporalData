{
 "cells": [
  {
   "cell_type": "code",
   "execution_count": 4,
   "id": "3731b629-2ff5-4e2a-8496-43b63a9eac8b",
   "metadata": {},
   "outputs": [],
   "source": [
    "import numpy as np\n",
    "import pandas as pd\n"
   ]
  },
  {
   "cell_type": "markdown",
   "id": "009c7169-daf9-4aa3-b4a0-407d8d888122",
   "metadata": {},
   "source": [
    "## LRSTSS"
   ]
  },
  {
   "cell_type": "code",
   "execution_count": 3,
   "id": "c77cee61-cbbf-4ec3-ab72-5b11f4c20f6b",
   "metadata": {},
   "outputs": [],
   "source": [
    "LRSTSS_varying_rad = pd.DataFrame()\n",
    "for r in [1,2,3,4,5]: ##add 15, data for rep 22 was missing\n",
    "    for rep in range(50):\n",
    "        file_name = f'/Users/rachitamondal/Desktop/Anomaly_Detection/LRSTSS/Varying_Radius/results_rad_{r}/LRSTSS_rad_{r}_rep{rep}.csv'\n",
    "        res = pd.read_csv(file_name)\n",
    "        LRSTSS_varying_rad = pd.concat([LRSTSS_varying_rad, res], ignore_index = True)"
   ]
  },
  {
   "cell_type": "code",
   "execution_count": 6,
   "id": "89597493-a70c-473a-9009-dcb10762c8ed",
   "metadata": {},
   "outputs": [],
   "source": [
    "LRSTSS_varying_rad.to_csv(\"LRSTSS_varying_rad.csv\", index = False)"
   ]
  },
  {
   "cell_type": "markdown",
   "id": "efda2912-09c8-41e6-b0f0-3b5d7ba0e5db",
   "metadata": {},
   "source": [
    "## LRSTS"
   ]
  },
  {
   "cell_type": "code",
   "execution_count": 11,
   "id": "64185230-c68f-4bf2-ace6-e166bc7fa06d",
   "metadata": {},
   "outputs": [],
   "source": [
    "LRSTS_varying_rad = pd.DataFrame()\n",
    "for r in [1,2,3,4,5]: ##add 15, data for rep 22 was missing\n",
    "    for rep in range(50):\n",
    "        file_name = f'/Users/rachitamondal/Desktop/Anomaly_Detection/LRSTS/Varying_Radius/results_rad_{r}/LRSTS_rad_{r}_rep{rep}.csv'\n",
    "        res = pd.read_csv(file_name)\n",
    "        LRSTS_varying_rad = pd.concat([LRSTS_varying_rad, res], ignore_index = True)"
   ]
  },
  {
   "cell_type": "code",
   "execution_count": 13,
   "id": "81cfcb3b-e247-4fb3-a9f0-d8dcada8f572",
   "metadata": {},
   "outputs": [],
   "source": [
    "LRSTS_varying_rad.to_csv(\"LRSTS_varying_rad.csv\", index = False)"
   ]
  },
  {
   "cell_type": "markdown",
   "id": "c235e8f0-8031-4e0d-919c-695568903085",
   "metadata": {},
   "source": [
    "## LRSSS"
   ]
  },
  {
   "cell_type": "code",
   "execution_count": 6,
   "id": "293f32c7-f877-4f07-86b0-9c6f891a96de",
   "metadata": {},
   "outputs": [],
   "source": [
    "LRSSS_varying_rad = pd.DataFrame()\n",
    "for r in [1,2,3,4,5]: ##add 15, data for rep 22 was missing\n",
    "    for rep in range(50):\n",
    "        file_name = f'/Users/rachitamondal/Desktop/Anomaly_Detection/LRSSS/Varying_Radius/results_rad_{r}/LRSSS_rad_{r}_rep{rep}.csv'\n",
    "        res = pd.read_csv(file_name)\n",
    "        LRSSS_varying_rad = pd.concat([LRSSS_varying_rad, res], ignore_index = True)"
   ]
  },
  {
   "cell_type": "code",
   "execution_count": 8,
   "id": "e61465c7-c3ca-4177-98ac-785d93720c57",
   "metadata": {},
   "outputs": [],
   "source": [
    "LRSSS_varying_rad.to_csv(\"LRSSS_varying_rad.csv\", index = False)"
   ]
  },
  {
   "cell_type": "markdown",
   "id": "e3e797d7-86c0-4c9d-88b5-cfc1c53efbff",
   "metadata": {},
   "source": [
    "## HORPCA"
   ]
  },
  {
   "cell_type": "code",
   "execution_count": 11,
   "id": "ab15d8d5-21a4-487f-9536-9aaf2297b8f5",
   "metadata": {},
   "outputs": [],
   "source": [
    "HORPCA_varying_rad = pd.DataFrame()\n",
    "for r in [1,2,3,4,5]: ##add 15, data for rep 22 was missing\n",
    "    for rep in range(50):\n",
    "        file_name = f'/Users/rachitamondal/Desktop/Anomaly_Detection/HORPCA/Varying_Radius/results_rad_{r}/HORPCA_rad_{r}_rep{rep}.csv'\n",
    "        res = pd.read_csv(file_name)\n",
    "        HORPCA_varying_rad = pd.concat([HORPCA_varying_rad, res], ignore_index = True)"
   ]
  },
  {
   "cell_type": "code",
   "execution_count": 13,
   "id": "bbccb0d1-d5ac-4b1f-911d-07c4cc068dcb",
   "metadata": {},
   "outputs": [],
   "source": [
    "HORPCA_varying_rad.to_csv(\"HORPCA_varying_rad.csv\", index = False)"
   ]
  },
  {
   "cell_type": "code",
   "execution_count": null,
   "id": "2ebe9624-530e-48ca-84e2-caef78c8a25c",
   "metadata": {},
   "outputs": [],
   "source": []
  },
  {
   "cell_type": "code",
   "execution_count": null,
   "id": "582981e2-f3f0-4d27-9554-c4524f38d26d",
   "metadata": {},
   "outputs": [],
   "source": []
  },
  {
   "cell_type": "code",
   "execution_count": null,
   "id": "dd445471-d373-401c-91fb-e2885c345ab3",
   "metadata": {},
   "outputs": [],
   "source": []
  },
  {
   "cell_type": "code",
   "execution_count": null,
   "id": "7ea7f137-b5fb-48d2-a70e-04f2c07f5972",
   "metadata": {},
   "outputs": [],
   "source": []
  }
 ],
 "metadata": {
  "kernelspec": {
   "display_name": "Python 3 (ipykernel)",
   "language": "python",
   "name": "python3"
  },
  "language_info": {
   "codemirror_mode": {
    "name": "ipython",
    "version": 3
   },
   "file_extension": ".py",
   "mimetype": "text/x-python",
   "name": "python",
   "nbconvert_exporter": "python",
   "pygments_lexer": "ipython3",
   "version": "3.11.5"
  }
 },
 "nbformat": 4,
 "nbformat_minor": 5
}
