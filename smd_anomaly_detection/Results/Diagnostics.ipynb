{
 "cells": [
  {
   "cell_type": "code",
   "execution_count": 1,
   "id": "0a776f33",
   "metadata": {},
   "outputs": [],
   "source": [
    "import numpy as np\n",
    "import pandas as pd"
   ]
  },
  {
   "cell_type": "markdown",
   "id": "f7a3e9c5",
   "metadata": {},
   "source": [
    "## LRSTSS"
   ]
  },
  {
   "cell_type": "code",
   "execution_count": 5,
   "id": "387308e6",
   "metadata": {},
   "outputs": [],
   "source": [
    "LRSTSS = pd.DataFrame()\n",
    "for c in range(1,9):\n",
    "    file_name = f'/mnt/home/mondalra/Anomaly_Detection/smd_anomaly_detection/Results/LRSTSS_m1_c{c}.csv'\n",
    "    res = pd.read_csv(file_name)\n",
    "    LRSTSS = pd.concat([LRSTSS,res], ignore_index = True)\n",
    "\n",
    "for c in range(1,10):\n",
    "    file_name = f'/mnt/home/mondalra/Anomaly_Detection/smd_anomaly_detection/Results/LRSTSS_m2_c{c}.csv'\n",
    "    res = pd.read_csv(file_name)\n",
    "    LRSTSS = pd.concat([LRSTSS,res], ignore_index = True)\n",
    "\n",
    "for c in range(1,12):\n",
    "    file_name = f'/mnt/home/mondalra/Anomaly_Detection/smd_anomaly_detection/Results/LRSTSS_m3_c{c}.csv'\n",
    "    res = pd.read_csv(file_name)\n",
    "    LRSTSS = pd.concat([LRSTSS,res], ignore_index = True)\n",
    "\n",
    "\n"
   ]
  },
  {
   "cell_type": "markdown",
   "id": "3d2f90d2",
   "metadata": {},
   "source": [
    "## LRSTS"
   ]
  },
  {
   "cell_type": "code",
   "execution_count": 9,
   "id": "b3927fb5",
   "metadata": {},
   "outputs": [],
   "source": [
    "LRSTS = pd.DataFrame()\n",
    "for c in range(1,9):\n",
    "    file_name = f'/mnt/home/mondalra/Anomaly_Detection/smd_anomaly_detection/Results/LRSTS_m1_c{c}.csv'\n",
    "    res = pd.read_csv(file_name)\n",
    "    LRSTS = pd.concat([LRSTS,res], ignore_index = True)\n",
    "\n",
    "for c in range(1,10):\n",
    "    file_name = f'/mnt/home/mondalra/Anomaly_Detection/smd_anomaly_detection/Results/LRSTS_m2_c{c}.csv'\n",
    "    res = pd.read_csv(file_name)\n",
    "    LRSTS = pd.concat([LRSTS,res], ignore_index = True)\n",
    "\n",
    "for c in range(1,12):\n",
    "    file_name = f'/mnt/home/mondalra/Anomaly_Detection/smd_anomaly_detection/Results/LRSTS_m3_c{c}.csv'\n",
    "    res = pd.read_csv(file_name)\n",
    "    LRSTS = pd.concat([LRSTS,res], ignore_index = True)\n",
    "\n",
    "\n"
   ]
  },
  {
   "cell_type": "code",
   "execution_count": null,
   "id": "1321c13d",
   "metadata": {},
   "outputs": [],
   "source": []
  },
  {
   "cell_type": "markdown",
   "id": "78499a17",
   "metadata": {},
   "source": [
    "## LRSSS"
   ]
  },
  {
   "cell_type": "code",
   "execution_count": 10,
   "id": "9077b919",
   "metadata": {},
   "outputs": [],
   "source": [
    "LRSSS = pd.DataFrame()\n",
    "for c in range(1,9):\n",
    "    file_name = f'/mnt/home/mondalra/Anomaly_Detection/smd_anomaly_detection/Results/LRSSS_m1_c{c}.csv'\n",
    "    res = pd.read_csv(file_name)\n",
    "    LRSSS = pd.concat([LRSSS,res], ignore_index = True)\n",
    "\n",
    "for c in range(1,10):\n",
    "    file_name = f'/mnt/home/mondalra/Anomaly_Detection/smd_anomaly_detection/Results/LRSSS_m2_c{c}.csv'\n",
    "    res = pd.read_csv(file_name)\n",
    "    LRSSS = pd.concat([LRSSS,res], ignore_index = True)\n",
    "\n",
    "for c in range(1,12):\n",
    "    file_name = f'/mnt/home/mondalra/Anomaly_Detection/smd_anomaly_detection/Results/LRSSS_m3_c{c}.csv'\n",
    "    res = pd.read_csv(file_name)\n",
    "    LRSSS = pd.concat([LRSSS,res], ignore_index = True)\n",
    "\n",
    "\n"
   ]
  },
  {
   "cell_type": "code",
   "execution_count": null,
   "id": "18f26737",
   "metadata": {},
   "outputs": [],
   "source": []
  },
  {
   "cell_type": "markdown",
   "id": "8096db37",
   "metadata": {},
   "source": [
    "## HORPCA"
   ]
  },
  {
   "cell_type": "code",
   "execution_count": 11,
   "id": "ceb76ff0",
   "metadata": {},
   "outputs": [],
   "source": [
    "HORPCA = pd.DataFrame()\n",
    "for c in range(1,9):\n",
    "    file_name = f'/mnt/home/mondalra/Anomaly_Detection/smd_anomaly_detection/Results/HORPCA_m1_c{c}.csv'\n",
    "    res = pd.read_csv(file_name)\n",
    "    HORPCA = pd.concat([HORPCA,res], ignore_index = True)\n",
    "\n",
    "for c in range(1,10):\n",
    "    file_name = f'/mnt/home/mondalra/Anomaly_Detection/smd_anomaly_detection/Results/HORPCA_m2_c{c}.csv'\n",
    "    res = pd.read_csv(file_name)\n",
    "    HORPCA = pd.concat([HORPCA,res], ignore_index = True)\n",
    "\n",
    "for c in range(1,12):\n",
    "    file_name = f'/mnt/home/mondalra/Anomaly_Detection/smd_anomaly_detection/Results/HORPCA_m3_c{c}.csv'\n",
    "    res = pd.read_csv(file_name)\n",
    "    HORPCA = pd.concat([HORPCA,res], ignore_index = True)\n",
    "\n",
    "\n"
   ]
  },
  {
   "cell_type": "markdown",
   "id": "fdb2921b",
   "metadata": {},
   "source": [
    "### AU_ROC without likelihood scoring"
   ]
  },
  {
   "cell_type": "code",
   "execution_count": 18,
   "id": "577ad153",
   "metadata": {},
   "outputs": [
    {
     "data": {
      "text/plain": [
       "HORPCA    0.765675\n",
       "LRSTSS    0.799650\n",
       "LRSTS     0.824644\n",
       "LRSSS     0.792998\n",
       "dtype: float64"
      ]
     },
     "execution_count": 18,
     "metadata": {},
     "output_type": "execute_result"
    }
   ],
   "source": [
    "\n",
    "\n",
    "# Rename roc column in each dataframe to model name\n",
    "HORPCA_df = HORPCA.rename(columns={'au_roc': 'HORPCA'})\n",
    "LRSTSS_df = LRSTSS.rename(columns={'au_roc': 'LRSTSS'})\n",
    "LRSTS_df  = LRSTS.rename(columns={'au_roc': 'LRSTS'})\n",
    "LRSSS_df  = LRSSS.rename(columns={'au_roc': 'LRSSS'})\n",
    "\n",
    "# Drop the 'fscore' column since you only want AUC (roc)\n",
    "HORPCA_df = HORPCA_df[['machine_id', 'channel_id', 'HORPCA']]\n",
    "LRSTSS_df = LRSTSS_df[['machine_id', 'channel_id', 'LRSTSS']]\n",
    "LRSTS_df  = LRSTS_df[['machine_id', 'channel_id', 'LRSTS']]\n",
    "LRSSS_df  = LRSSS_df[['machine_id', 'channel_id', 'LRSSS']]\n",
    "\n",
    "# Merge all on machine and channel\n",
    "final_df = HORPCA_df.merge(LRSTSS_df, on=['machine_id', 'channel_id']) \\\n",
    "                    .merge(LRSTS_df,  on=['machine_id', 'channel_id']) \\\n",
    "                    .merge(LRSSS_df,  on=['machine_id', 'channel_id'])\n",
    "\n",
    "final_df[['HORPCA', 'LRSTSS', 'LRSTS', 'LRSSS']].mean()\n",
    "\n"
   ]
  },
  {
   "cell_type": "markdown",
   "id": "c17eccd9",
   "metadata": {},
   "source": [
    "### AU_ROC with likelihood scoring"
   ]
  },
  {
   "cell_type": "code",
   "execution_count": 19,
   "id": "e6f1fafc",
   "metadata": {},
   "outputs": [
    {
     "data": {
      "text/plain": [
       "HORPCA    0.834210\n",
       "LRSTSS    0.840760\n",
       "LRSTS     0.869632\n",
       "LRSSS     0.837559\n",
       "dtype: float64"
      ]
     },
     "execution_count": 19,
     "metadata": {},
     "output_type": "execute_result"
    }
   ],
   "source": [
    "\n",
    "\n",
    "# Rename roc column in each dataframe to model name\n",
    "HORPCA_df = HORPCA.rename(columns={'likelihood_au_roc': 'HORPCA'})\n",
    "LRSTSS_df = LRSTSS.rename(columns={'likelihood_au_roc': 'LRSTSS'})\n",
    "LRSTS_df  = LRSTS.rename(columns={'likelihood_au_roc': 'LRSTS'})\n",
    "LRSSS_df  = LRSSS.rename(columns={'likelihood_au_roc': 'LRSSS'})\n",
    "\n",
    "# Drop the 'fscore' column since you only want AUC (roc)\n",
    "HORPCA_df = HORPCA_df[['machine_id', 'channel_id', 'HORPCA']]\n",
    "LRSTSS_df = LRSTSS_df[['machine_id', 'channel_id', 'LRSTSS']]\n",
    "LRSTS_df  = LRSTS_df[['machine_id', 'channel_id', 'LRSTS']]\n",
    "LRSSS_df  = LRSSS_df[['machine_id', 'channel_id', 'LRSSS']]\n",
    "\n",
    "# Merge all on machine and channel\n",
    "final_df = HORPCA_df.merge(LRSTSS_df, on=['machine_id', 'channel_id']) \\\n",
    "                    .merge(LRSTS_df,  on=['machine_id', 'channel_id']) \\\n",
    "                    .merge(LRSSS_df,  on=['machine_id', 'channel_id'])\n",
    "\n",
    "final_df[['HORPCA', 'LRSTSS', 'LRSTS', 'LRSSS']].mean()\n",
    "\n"
   ]
  },
  {
   "cell_type": "markdown",
   "id": "686921d9",
   "metadata": {},
   "source": [
    "### RAW F1 "
   ]
  },
  {
   "cell_type": "code",
   "execution_count": 15,
   "id": "fc1778cf",
   "metadata": {},
   "outputs": [
    {
     "data": {
      "text/plain": [
       "HORPCA    0.278665\n",
       "LRSTSS    0.382867\n",
       "LRSTS     0.348797\n",
       "LRSSS     0.345041\n",
       "dtype: float64"
      ]
     },
     "execution_count": 15,
     "metadata": {},
     "output_type": "execute_result"
    }
   ],
   "source": [
    "\n",
    "\n",
    "# Rename roc column in each dataframe to model name\n",
    "HORPCA_df = HORPCA.rename(columns={'likelihood_raw_f1': 'HORPCA'})\n",
    "LRSTSS_df = LRSTSS.rename(columns={'likelihood_raw_f1': 'LRSTSS'})\n",
    "LRSTS_df  = LRSTS.rename(columns={'likelihood_raw_f1': 'LRSTS'})\n",
    "LRSSS_df  = LRSSS.rename(columns={'likelihood_raw_f1': 'LRSSS'})\n",
    "\n",
    "# Drop the 'fscore' column since you only want AUC (roc)\n",
    "HORPCA_df = HORPCA_df[['machine_id', 'channel_id', 'HORPCA']]\n",
    "LRSTSS_df = LRSTSS_df[['machine_id', 'channel_id', 'LRSTSS']]\n",
    "LRSTS_df  = LRSTS_df[['machine_id', 'channel_id', 'LRSTS']]\n",
    "LRSSS_df  = LRSSS_df[['machine_id', 'channel_id', 'LRSSS']]\n",
    "\n",
    "# Merge all on machine and channel\n",
    "final_df = HORPCA_df.merge(LRSTSS_df, on=['machine_id', 'channel_id']) \\\n",
    "                    .merge(LRSTS_df,  on=['machine_id', 'channel_id']) \\\n",
    "                    .merge(LRSSS_df,  on=['machine_id', 'channel_id'])\n",
    "\n",
    "final_df[['HORPCA', 'LRSTSS', 'LRSTS', 'LRSSS']].mean()\n",
    "\n"
   ]
  },
  {
   "cell_type": "code",
   "execution_count": null,
   "id": "78e03f70",
   "metadata": {},
   "outputs": [],
   "source": []
  },
  {
   "cell_type": "markdown",
   "id": "429f761b",
   "metadata": {},
   "source": [
    "## PA F1"
   ]
  },
  {
   "cell_type": "code",
   "execution_count": 16,
   "id": "8e188dcc",
   "metadata": {},
   "outputs": [
    {
     "data": {
      "text/plain": [
       "HORPCA    0.757216\n",
       "LRSTSS    0.830019\n",
       "LRSTS     0.799086\n",
       "LRSSS     0.842360\n",
       "dtype: float64"
      ]
     },
     "execution_count": 16,
     "metadata": {},
     "output_type": "execute_result"
    }
   ],
   "source": [
    "\n",
    "\n",
    "# Rename roc column in each dataframe to model name\n",
    "HORPCA_df = HORPCA.rename(columns={'likelihood_PA_f1': 'HORPCA'})\n",
    "LRSTSS_df = LRSTSS.rename(columns={'likelihood_PA_f1': 'LRSTSS'})\n",
    "LRSTS_df  = LRSTS.rename(columns={'likelihood_PA_f1': 'LRSTS'})\n",
    "LRSSS_df  = LRSSS.rename(columns={'likelihood_PA_f1': 'LRSSS'})\n",
    "\n",
    "# Drop the 'fscore' column since you only want AUC (roc)\n",
    "HORPCA_df = HORPCA_df[['machine_id', 'channel_id', 'HORPCA']]\n",
    "LRSTSS_df = LRSTSS_df[['machine_id', 'channel_id', 'LRSTSS']]\n",
    "LRSTS_df  = LRSTS_df[['machine_id', 'channel_id', 'LRSTS']]\n",
    "LRSSS_df  = LRSSS_df[['machine_id', 'channel_id', 'LRSSS']]\n",
    "\n",
    "# Merge all on machine and channel\n",
    "final_df = HORPCA_df.merge(LRSTSS_df, on=['machine_id', 'channel_id']) \\\n",
    "                    .merge(LRSTS_df,  on=['machine_id', 'channel_id']) \\\n",
    "                    .merge(LRSSS_df,  on=['machine_id', 'channel_id'])\n",
    "\n",
    "final_df[['HORPCA', 'LRSTSS', 'LRSTS', 'LRSSS']].mean()\n",
    "\n"
   ]
  },
  {
   "cell_type": "code",
   "execution_count": null,
   "id": "41ebf12a",
   "metadata": {},
   "outputs": [],
   "source": []
  }
 ],
 "metadata": {
  "kernelspec": {
   "display_name": "myenv1",
   "language": "python",
   "name": "python3"
  },
  "language_info": {
   "codemirror_mode": {
    "name": "ipython",
    "version": 3
   },
   "file_extension": ".py",
   "mimetype": "text/x-python",
   "name": "python",
   "nbconvert_exporter": "python",
   "pygments_lexer": "ipython3",
   "version": "3.12.9"
  }
 },
 "nbformat": 4,
 "nbformat_minor": 5
}
