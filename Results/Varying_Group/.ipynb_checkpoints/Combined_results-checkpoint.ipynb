{
 "cells": [
  {
   "cell_type": "code",
   "execution_count": 2,
   "id": "419858c5-64e2-4918-a3bd-d24cd8e94479",
   "metadata": {},
   "outputs": [],
   "source": [
    "import numpy as np\n",
    "import pandas as pd"
   ]
  },
  {
   "cell_type": "markdown",
   "id": "535e9097-e449-4e41-8d18-c24792434a6f",
   "metadata": {},
   "source": [
    "## LRSTSS"
   ]
  },
  {
   "cell_type": "code",
   "execution_count": 5,
   "id": "f50cf56c-8191-43de-a39a-52f3afb8ca35",
   "metadata": {},
   "outputs": [],
   "source": [
    "LRSTSS_varying_noa = pd.DataFrame()\n",
    "for a in [100,500,1000,2000,3000]: ##add 15, data for rep 22 was missing\n",
    "    for rep in range(50):\n",
    "        file_name = f'/Users/rachitamondal/Desktop/Anomaly_Detection/LRSTSS/Varying_Group/results_noa_{a}/LRSTSS_noa_{a}_rep{rep}.csv'\n",
    "        res = pd.read_csv(file_name)\n",
    "        LRSTSS_varying_noa = pd.concat([LRSTSS_varying_noa, res], ignore_index = True)"
   ]
  },
  {
   "cell_type": "code",
   "execution_count": 7,
   "id": "3741e02f-9b03-4aad-872a-8d7e38baff64",
   "metadata": {},
   "outputs": [],
   "source": [
    "LRSTSS_varying_noa.to_csv(\"LRSTSS_varying_noa.csv\", index = False)"
   ]
  },
  {
   "cell_type": "markdown",
   "id": "99c24b0f-4114-404c-a581-02e89d76d87e",
   "metadata": {},
   "source": [
    "## LRSTS"
   ]
  },
  {
   "cell_type": "code",
   "execution_count": 4,
   "id": "9b512a7a-4ca5-487b-8f35-5e716f0c690a",
   "metadata": {},
   "outputs": [],
   "source": [
    "LRSTS_varying_noa = pd.DataFrame()\n",
    "for a in [100,500,1000,2000,3000]: ##add 15, data for rep 22 was missing\n",
    "    for rep in range(50):\n",
    "        file_name = f'/Users/rachitamondal/Desktop/Anomaly_Detection/LRSTS/Varying_Group/results_noa_{a}/LRSTS_noa_{a}_rep{rep}.csv'\n",
    "        res = pd.read_csv(file_name)\n",
    "        LRSTS_varying_noa = pd.concat([LRSTS_varying_noa, res], ignore_index = True)"
   ]
  },
  {
   "cell_type": "code",
   "execution_count": 6,
   "id": "3ff07e98-9395-4046-ba0f-355e52544036",
   "metadata": {},
   "outputs": [],
   "source": [
    "LRSTS_varying_noa.to_csv(\"LRSTS_varying_noa.csv\", index = False)"
   ]
  },
  {
   "cell_type": "markdown",
   "id": "d76f9809-746b-45a2-97e6-32449a56a1cd",
   "metadata": {},
   "source": [
    "## LRSSS"
   ]
  },
  {
   "cell_type": "code",
   "execution_count": 4,
   "id": "cbf8f4da-308b-4151-9a0b-a97a854afc69",
   "metadata": {},
   "outputs": [],
   "source": [
    "LRSSS_varying_noa = pd.DataFrame()\n",
    "for a in [100,500,1000,2000,3000]: ##add 15, data for rep 22 was missing\n",
    "    for rep in range(50):\n",
    "        file_name = f'/Users/rachitamondal/Desktop/Anomaly_Detection/LRSSS/Varying_Group/results_noa_{a}/LRSSS_noa_{a}_rep{rep}.csv'\n",
    "        res = pd.read_csv(file_name)\n",
    "        LRSSS_varying_noa = pd.concat([LRSSS_varying_noa, res], ignore_index = True)"
   ]
  },
  {
   "cell_type": "code",
   "execution_count": 6,
   "id": "f460a7c0-b598-4be7-96cc-c28af334f995",
   "metadata": {},
   "outputs": [],
   "source": [
    "LRSSS_varying_noa.to_csv(\"LRSSS_varying_noa.csv\", index = False)"
   ]
  },
  {
   "cell_type": "markdown",
   "id": "6224add4-dbc2-4042-9f1c-b386672536ff",
   "metadata": {},
   "source": [
    "## HORPCA"
   ]
  },
  {
   "cell_type": "code",
   "execution_count": 4,
   "id": "7ab12df7-4f6f-43fe-87ee-50596c0eb49f",
   "metadata": {},
   "outputs": [],
   "source": [
    "HORPCA_varying_noa = pd.DataFrame()\n",
    "for a in [100,500,1000,2000,3000]: ##add 15, data for rep 22 was missing\n",
    "    for rep in range(50):\n",
    "        file_name = f'/Users/rachitamondal/Desktop/Anomaly_Detection/HORPCA/Varying_Group/results_noa_{a}/HORPCA_noa_{a}_rep{rep}.csv'\n",
    "        res = pd.read_csv(file_name)\n",
    "        HORPCA_varying_noa = pd.concat([HORPCA_varying_noa, res], ignore_index = True)"
   ]
  },
  {
   "cell_type": "code",
   "execution_count": 6,
   "id": "17829934-ede2-4035-9cdb-e057eab55898",
   "metadata": {},
   "outputs": [],
   "source": [
    "HORPCA_varying_noa.to_csv(\"HORPCA_varying_noa.csv\", index = False)"
   ]
  },
  {
   "cell_type": "code",
   "execution_count": null,
   "id": "fb9defeb-06c9-4db8-904f-192996cd634e",
   "metadata": {},
   "outputs": [],
   "source": []
  },
  {
   "cell_type": "code",
   "execution_count": null,
   "id": "d56f5730-4cc6-4f84-a78c-778e87f69827",
   "metadata": {},
   "outputs": [],
   "source": []
  },
  {
   "cell_type": "code",
   "execution_count": null,
   "id": "2ba930a2-c4c0-4488-9c3e-694351642e69",
   "metadata": {},
   "outputs": [],
   "source": []
  },
  {
   "cell_type": "code",
   "execution_count": null,
   "id": "8edcb0f2-19fb-4c53-96d1-634e9da49964",
   "metadata": {},
   "outputs": [],
   "source": []
  },
  {
   "cell_type": "code",
   "execution_count": null,
   "id": "f778b1e6-f30b-417d-8e08-5c9345549781",
   "metadata": {},
   "outputs": [],
   "source": []
  },
  {
   "cell_type": "code",
   "execution_count": null,
   "id": "38e9e59c-bc6c-4c32-90ab-92df75ea5db1",
   "metadata": {},
   "outputs": [],
   "source": []
  },
  {
   "cell_type": "code",
   "execution_count": null,
   "id": "554dddcb-5f66-4a63-876d-85612a862ec7",
   "metadata": {},
   "outputs": [],
   "source": []
  },
  {
   "cell_type": "code",
   "execution_count": null,
   "id": "7c7abffc-dc89-435b-ae6b-39c7dc5a4a41",
   "metadata": {},
   "outputs": [],
   "source": []
  },
  {
   "cell_type": "code",
   "execution_count": null,
   "id": "4d7ba56c-f17c-4688-8fe3-27613a8bbb6c",
   "metadata": {},
   "outputs": [],
   "source": []
  }
 ],
 "metadata": {
  "kernelspec": {
   "display_name": "Python 3 (ipykernel)",
   "language": "python",
   "name": "python3"
  },
  "language_info": {
   "codemirror_mode": {
    "name": "ipython",
    "version": 3
   },
   "file_extension": ".py",
   "mimetype": "text/x-python",
   "name": "python",
   "nbconvert_exporter": "python",
   "pygments_lexer": "ipython3",
   "version": "3.11.5"
  }
 },
 "nbformat": 4,
 "nbformat_minor": 5
}
