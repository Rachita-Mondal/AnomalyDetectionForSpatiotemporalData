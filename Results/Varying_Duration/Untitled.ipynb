{
 "cells": [
  {
   "cell_type": "code",
   "execution_count": null,
   "id": "2f0e9705-6d59-4c10-85b2-04d660ccdac3",
   "metadata": {},
   "outputs": [],
   "source": [
    "import numpy as np\n",
    "import pandas as pd\n"
   ]
  },
  {
   "cell_type": "code",
   "execution_count": null,
   "id": "1e4b33d3-2af3-4725-932d-24999cb6cb8c",
   "metadata": {},
   "outputs": [],
   "source": [
    "LRSTSS_varying_dur = pd.DataFrame()\n",
    "for d in [1,5,10,15,20,25]: ##add 15, data for rep 22 was missing\n",
    "    for r in range(50):\n",
    "        file_name = f'/Users/rachitamondal/Desktop/Anomaly_Detection/LRSTSS/Varying_Duration/results_dur_{d}/LRSTSS_dur_{d}_rep{r}.csv'\n",
    "        res = pd.read_csv(file_name)\n",
    "        LRSTSS_varying_dur = pd.concat([LRSTSS_varying_dur, res], ignore_index = True)"
   ]
  },
  {
   "cell_type": "code",
   "execution_count": null,
   "id": "60b6d493-dac6-4a5c-895f-17edd34dd3e8",
   "metadata": {},
   "outputs": [],
   "source": []
  },
  {
   "cell_type": "code",
   "execution_count": null,
   "id": "47f65110-93ee-40b5-a981-9093367f3abd",
   "metadata": {},
   "outputs": [],
   "source": []
  },
  {
   "cell_type": "code",
   "execution_count": null,
   "id": "5f22396f-b714-4e86-8961-997530f11980",
   "metadata": {},
   "outputs": [],
   "source": []
  },
  {
   "cell_type": "code",
   "execution_count": null,
   "id": "9d3370d3-bfd4-4c09-af73-4e6a3d772f08",
   "metadata": {},
   "outputs": [],
   "source": []
  }
 ],
 "metadata": {
  "kernelspec": {
   "display_name": "Python 3 (ipykernel)",
   "language": "python",
   "name": "python3"
  },
  "language_info": {
   "codemirror_mode": {
    "name": "ipython",
    "version": 3
   },
   "file_extension": ".py",
   "mimetype": "text/x-python",
   "name": "python",
   "nbconvert_exporter": "python",
   "pygments_lexer": "ipython3",
   "version": "3.11.5"
  }
 },
 "nbformat": 4,
 "nbformat_minor": 5
}
