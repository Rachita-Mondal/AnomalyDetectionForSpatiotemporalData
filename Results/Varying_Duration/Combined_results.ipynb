{
 "cells": [
  {
   "cell_type": "code",
   "execution_count": 1,
   "id": "7391462c-3550-4cb4-b943-7a92893cac6d",
   "metadata": {},
   "outputs": [],
   "source": [
    "import numpy as np\n",
    "import pandas as pd\n"
   ]
  },
  {
   "cell_type": "markdown",
   "id": "e5059fa0-3953-452c-9266-4553fd527915",
   "metadata": {},
   "source": [
    "## LRSTSS"
   ]
  },
  {
   "cell_type": "code",
   "execution_count": 4,
   "id": "2415a5e7-7de3-4ade-a013-b1fa7ae23084",
   "metadata": {},
   "outputs": [],
   "source": [
    "LRSTSS_varying_dur = pd.DataFrame()\n",
    "for d in [1,5,10,15,20,25]: ##add 15, data for rep 22 was missing\n",
    "    for r in range(50):\n",
    "        file_name = f'/Users/rachitamondal/Desktop/Anomaly_Detection/LRSTSS/Varying_Duration/results_dur_{d}/LRSTSS_dur_{d}_rep{r}.csv'\n",
    "        res = pd.read_csv(file_name)\n",
    "        LRSTSS_varying_dur = pd.concat([LRSTSS_varying_dur, res], ignore_index = True)"
   ]
  },
  {
   "cell_type": "code",
   "execution_count": 6,
   "id": "837cc749-ed84-42bc-bade-8a8229bd2128",
   "metadata": {},
   "outputs": [],
   "source": [
    "LRSTSS_varying_dur.to_csv(\"LRSTSS_varying_dur.csv\", index = False)"
   ]
  },
  {
   "cell_type": "markdown",
   "id": "90b58253-4985-4c5c-8777-38f2a677b55c",
   "metadata": {},
   "source": [
    "## LRSTS"
   ]
  },
  {
   "cell_type": "code",
   "execution_count": 9,
   "id": "a1c61a0d-b97a-4c03-8510-6fdc413363ef",
   "metadata": {},
   "outputs": [],
   "source": [
    "LRSTS_varying_dur = pd.DataFrame()\n",
    "for d in [1,5,10,15,20,25]: ##add 15, data for rep 22 was missing\n",
    "    for r in range(50):\n",
    "        file_name = f'/Users/rachitamondal/Desktop/Anomaly_Detection/LRSTS/Varying_Duration/results_dur_{d}/LRSTS_dur_{d}_rep{r}.csv'\n",
    "        res = pd.read_csv(file_name)\n",
    "        LRSTS_varying_dur = pd.concat([LRSTS_varying_dur, res], ignore_index = True)"
   ]
  },
  {
   "cell_type": "code",
   "execution_count": 11,
   "id": "c52ac845-39dc-4955-8065-95043e1f833c",
   "metadata": {},
   "outputs": [],
   "source": [
    "LRSTS_varying_dur.to_csv(\"LRSTS_varying_dur.csv\", index = False)"
   ]
  },
  {
   "cell_type": "markdown",
   "id": "a0979ef0-27e1-4773-a03a-40e8f2ea9f88",
   "metadata": {},
   "source": [
    "## HORPCA"
   ]
  },
  {
   "cell_type": "code",
   "execution_count": 14,
   "id": "9f0f183c-3758-46fe-b0e8-52b54cbfac72",
   "metadata": {},
   "outputs": [],
   "source": [
    "HORPCA_varying_dur = pd.DataFrame()\n",
    "for d in [1,5,10,15,20,25]: ##add 15, data for rep 22 was missing\n",
    "    for r in range(50):\n",
    "        file_name = f'/Users/rachitamondal/Desktop/Anomaly_Detection/HORPCA/Varying_Duration/results_dur_{d}/HORPCA_dur_{d}_rep{r}.csv'\n",
    "        res = pd.read_csv(file_name)\n",
    "        HORPCA_varying_dur = pd.concat([HORPCA_varying_dur, res], ignore_index = True)"
   ]
  },
  {
   "cell_type": "code",
   "execution_count": 16,
   "id": "97dd2012-4cdd-43f9-bcef-0be624780374",
   "metadata": {},
   "outputs": [],
   "source": [
    "HORPCA_varying_dur.to_csv(\"HORPCA_varying_dur.csv\", index = False)"
   ]
  },
  {
   "cell_type": "code",
   "execution_count": null,
   "id": "1d5f8d48-46ad-4dd7-a1a3-ba2e96e0dfa6",
   "metadata": {},
   "outputs": [],
   "source": []
  },
  {
   "cell_type": "markdown",
   "id": "a4f9671f-b64d-4034-b8c5-9730c95a5dea",
   "metadata": {},
   "source": [
    "## LRSSS"
   ]
  },
  {
   "cell_type": "code",
   "execution_count": 20,
   "id": "cdbfc29d-e261-427c-b742-b548b84b9e63",
   "metadata": {},
   "outputs": [],
   "source": [
    "LRSSS_varying_dur = pd.DataFrame()\n",
    "for d in [1,5,10,15,20,25]: ##add 15, data for rep 22 was missing\n",
    "    for r in range(50):\n",
    "        file_name = f'/Users/rachitamondal/Desktop/Anomaly_Detection/LRSSS/Varying_Duration/results_dur_{d}/LRSSS_dur_{d}_rep{r}.csv'\n",
    "        res = pd.read_csv(file_name)\n",
    "        LRSSS_varying_dur = pd.concat([LRSSS_varying_dur, res], ignore_index = True)"
   ]
  },
  {
   "cell_type": "code",
   "execution_count": 22,
   "id": "7e44f34c-9d36-4c66-b03c-62e22ee3935b",
   "metadata": {},
   "outputs": [],
   "source": [
    "LRSSS_varying_dur.to_csv(\"LRSSS_varying_dur.csv\", index = False)"
   ]
  }
 ],
 "metadata": {
  "kernelspec": {
   "display_name": "Python 3 (ipykernel)",
   "language": "python",
   "name": "python3"
  },
  "language_info": {
   "codemirror_mode": {
    "name": "ipython",
    "version": 3
   },
   "file_extension": ".py",
   "mimetype": "text/x-python",
   "name": "python",
   "nbconvert_exporter": "python",
   "pygments_lexer": "ipython3",
   "version": "3.11.5"
  }
 },
 "nbformat": 4,
 "nbformat_minor": 5
}
