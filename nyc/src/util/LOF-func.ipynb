{
 "cells": [
  {
   "cell_type": "code",
   "execution_count": null,
   "id": "5f9cf8a6-61b5-46b5-b30b-44976a025ef3",
   "metadata": {},
   "outputs": [],
   "source": [
    "import numpy as np\n",
    "from sklearn.neighbors import NearestNeighbors\n",
    "from scipy.spatial.distance import cdist\n",
    "\n",
    "def lof(A, k):\n",
    "    # Convert k to an integer if it's a fraction\n",
    "    if k < 1:\n",
    "        k = round(k * A.shape[0])\n",
    "    \n",
    "    # Initialize the nearest neighbors model\n",
    "    nbrs = NearestNeighbors(n_neighbors=k+1, algorithm='auto').fit(A)\n",
    "    distances, indices = nbrs.kneighbors(A)\n",
    "    \n",
    "    # Ignore the first column which is the point itself\n",
    "    indices = indices[:, 1:]\n",
    "    distances = distances[:, 1:]\n",
    "    \n",
    "    # Compute k-distance\n",
    "    k_dist = distances[:, -1]\n",
    "    \n",
    "    # Initialize lrd_values\n",
    "    lrd_values = np.zeros(A.shape[0])\n",
    "    \n",
    "    # Compute lrd for each element\n",
    "    for i in range(A.shape[0]):\n",
    "        lrd_values[i] = compute_lrd(A, i, k_dist[i], indices[i], k) + np.finfo(float).eps\n",
    "    \n",
    "    # Compute LOF\n",
    "    lof_values = np.zeros(A.shape[0])\n",
    "    for i in range(A.shape[0]):\n",
    "        lrd_i = lrd_values[i]\n",
    "        lrd_neighbors = lrd_values[indices[i]]\n",
    "        lof_values[i] = np.sum(lrd_neighbors / lrd_i) / k\n",
    "    \n",
    "    # Rank indices based on LOF values (descending order)\n",
    "    suspicious_index = np.argsort(-lof_values)\n",
    "    \n",
    "    return suspicious_index, lof_values\n",
    "\n",
    "def compute_lrd(A, index_p, k_dist_p, k_index_p, k):\n",
    "    # Compute the reachability distance\n",
    "    distances = cdist([A[index_p]], A[k_index_p], metric='euclidean').flatten()\n",
    "    reach_dist = np.maximum(distances, k_dist_p)\n",
    "    \n",
    "    # Compute the local reachability density\n",
    "    lrd_value = k / np.sum(reach_dist)\n",
    "    return lrd_value"
   ]
  }
 ],
 "metadata": {
  "kernelspec": {
   "display_name": "Python 3 (ipykernel)",
   "language": "python",
   "name": "python3"
  },
  "language_info": {
   "codemirror_mode": {
    "name": "ipython",
    "version": 3
   },
   "file_extension": ".py",
   "mimetype": "text/x-python",
   "name": "python",
   "nbconvert_exporter": "python",
   "pygments_lexer": "ipython3",
   "version": "3.11.5"
  }
 },
 "nbformat": 4,
 "nbformat_minor": 5
}
