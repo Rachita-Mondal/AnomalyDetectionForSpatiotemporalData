{
 "cells": [
  {
   "cell_type": "code",
   "execution_count": 13,
   "id": "7391462c-3550-4cb4-b943-7a92893cac6d",
   "metadata": {},
   "outputs": [],
   "source": [
    "import numpy as np\n",
    "import pandas as pd\n"
   ]
  },
  {
   "cell_type": "markdown",
   "id": "e5059fa0-3953-452c-9266-4553fd527915",
   "metadata": {},
   "source": [
    "## LRSTSS"
   ]
  },
  {
   "cell_type": "code",
   "execution_count": 16,
   "id": "2415a5e7-7de3-4ade-a013-b1fa7ae23084",
   "metadata": {},
   "outputs": [],
   "source": [
    "LRSTSS_varying_dur = pd.DataFrame()\n",
    "for d in [1,5,10,15,20,25]: ##add 15, data for rep 22 was missing\n",
    "    for r in range(50):\n",
    "        file_name = f'/Users/rachitamondal/Desktop/Anomaly_Detection/LRSTSS/Varying_Duration/results_dur_{d}/LRSTSS_dur_{d}_rep{r}.csv'\n",
    "        res = pd.read_csv(file_name)\n",
    "        LRSTSS_varying_dur = pd.concat([LRSTSS_varying_dur, res], ignore_index = True)"
   ]
  },
  {
   "cell_type": "code",
   "execution_count": 18,
   "id": "837cc749-ed84-42bc-bade-8a8229bd2128",
   "metadata": {},
   "outputs": [],
   "source": [
    "LRSTSS_varying_dur.to_csv(\"LRSTSS_varying_dur.csv\", index = False)"
   ]
  },
  {
   "cell_type": "code",
   "execution_count": null,
   "id": "c375fcc1-12d5-4d9e-811c-6d70cda8dbb5",
   "metadata": {},
   "outputs": [],
   "source": []
  },
  {
   "cell_type": "code",
   "execution_count": null,
   "id": "a1c61a0d-b97a-4c03-8510-6fdc413363ef",
   "metadata": {},
   "outputs": [],
   "source": []
  },
  {
   "cell_type": "code",
   "execution_count": null,
   "id": "c52ac845-39dc-4955-8065-95043e1f833c",
   "metadata": {},
   "outputs": [],
   "source": []
  },
  {
   "cell_type": "code",
   "execution_count": null,
   "id": "a6d9e24e-78c1-4a16-996f-c1218646943b",
   "metadata": {},
   "outputs": [],
   "source": []
  },
  {
   "cell_type": "code",
   "execution_count": null,
   "id": "cdbfc29d-e261-427c-b742-b548b84b9e63",
   "metadata": {},
   "outputs": [],
   "source": []
  }
 ],
 "metadata": {
  "kernelspec": {
   "display_name": "Python 3 (ipykernel)",
   "language": "python",
   "name": "python3"
  },
  "language_info": {
   "codemirror_mode": {
    "name": "ipython",
    "version": 3
   },
   "file_extension": ".py",
   "mimetype": "text/x-python",
   "name": "python",
   "nbconvert_exporter": "python",
   "pygments_lexer": "ipython3",
   "version": "3.11.5"
  }
 },
 "nbformat": 4,
 "nbformat_minor": 5
}
